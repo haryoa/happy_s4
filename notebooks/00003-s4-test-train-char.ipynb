{
 "cells": [
  {
   "cell_type": "code",
   "execution_count": 1,
   "metadata": {},
   "outputs": [
    {
     "name": "stdout",
     "output_type": "stream",
     "text": [
      "/mnt/data4/haryoaw_workspace/projects/2021_2/s4_happy/happy_s4\n"
     ]
    }
   ],
   "source": [
    "%cd ..\n",
    "%load_ext autoreload\n",
    "%autoreload 2"
   ]
  },
  {
   "cell_type": "code",
   "execution_count": 2,
   "metadata": {},
   "outputs": [
    {
     "name": "stderr",
     "output_type": "stream",
     "text": [
      "/mnt/data3/shared_envs/s4/lib/python3.8/site-packages/tqdm/auto.py:22: TqdmWarning: IProgress not found. Please update jupyter and ipywidgets. See https://ipywidgets.readthedocs.io/en/stable/user_install.html\n",
      "  from .autonotebook import tqdm as notebook_tqdm\n"
     ]
    }
   ],
   "source": [
    "from happy_s4.data.lit_data import HFLitDataArgs, HFLitDataModule"
   ]
  },
  {
   "cell_type": "code",
   "execution_count": 3,
   "metadata": {},
   "outputs": [
    {
     "name": "stderr",
     "output_type": "stream",
     "text": [
      "CUDA extension for cauchy multiplication not found. Install by going to extensions/cauchy/ and running `python setup.py install`. This should speed up end-to-end training by 10-50%\n"
     ]
    }
   ],
   "source": [
    "from happy_s4.model.lit_model import LitS4Args, LitS4\n",
    "from happy_s4.model.s4_wrap import S4_GO_BRR_ARGS"
   ]
  },
  {
   "cell_type": "code",
   "execution_count": 4,
   "metadata": {},
   "outputs": [],
   "source": [
    "lit_args = HFLitDataArgs(min_freq=1, split_pattern=r\"\")"
   ]
  },
  {
   "cell_type": "code",
   "execution_count": 5,
   "metadata": {},
   "outputs": [],
   "source": [
    "dm = HFLitDataModule(lit_args)"
   ]
  },
  {
   "cell_type": "code",
   "execution_count": 6,
   "metadata": {},
   "outputs": [
    {
     "name": "stderr",
     "output_type": "stream",
     "text": [
      "Reusing dataset glue (/mnt/data1/hf_dataset_cache/glue/mrpc/1.0.0/dacbe3125aa31d7f70367a07a8a9e72a5a0bfeb5fc42e75c9db75b96da6053ad)\n",
      "Loading cached processed dataset at /mnt/data1/hf_dataset_cache/glue/mrpc/1.0.0/dacbe3125aa31d7f70367a07a8a9e72a5a0bfeb5fc42e75c9db75b96da6053ad/cache-4c94838283d0c555.arrow\n",
      "Reusing dataset glue (/mnt/data1/hf_dataset_cache/glue/mrpc/1.0.0/dacbe3125aa31d7f70367a07a8a9e72a5a0bfeb5fc42e75c9db75b96da6053ad)\n",
      "Loading cached processed dataset at /mnt/data1/hf_dataset_cache/glue/mrpc/1.0.0/dacbe3125aa31d7f70367a07a8a9e72a5a0bfeb5fc42e75c9db75b96da6053ad/cache-6f8a7dfd1c2edfb8.arrow\n"
     ]
    }
   ],
   "source": [
    "dm.setup()"
   ]
  },
  {
   "cell_type": "code",
   "execution_count": 7,
   "metadata": {},
   "outputs": [],
   "source": [
    "vocab_size = len(dm.tokenizer.vocab.get_itos())\n",
    "pad_token_id = dm.tokenizer.pad_token_id\n"
   ]
  },
  {
   "cell_type": "code",
   "execution_count": 8,
   "metadata": {},
   "outputs": [
    {
     "data": {
      "text/plain": [
       "84"
      ]
     },
     "execution_count": 8,
     "metadata": {},
     "output_type": "execute_result"
    }
   ],
   "source": [
    "vocab_size"
   ]
  },
  {
   "cell_type": "code",
   "execution_count": 9,
   "metadata": {},
   "outputs": [],
   "source": [
    "s4_args = S4_GO_BRR_ARGS(pad_token_id=pad_token_id, vocab_size=vocab_size, d_model=512, l_max=3000, channels=1,hurwitz=True, transposed=False)"
   ]
  },
  {
   "cell_type": "code",
   "execution_count": 10,
   "metadata": {},
   "outputs": [],
   "source": [
    "lit_s4_args = LitS4Args(s4_args=s4_args)"
   ]
  },
  {
   "cell_type": "code",
   "execution_count": 11,
   "metadata": {},
   "outputs": [],
   "source": [
    "lit_s4 = LitS4(lit_s4_args)"
   ]
  },
  {
   "cell_type": "code",
   "execution_count": 12,
   "metadata": {},
   "outputs": [],
   "source": [
    "dl = dm.val_dataloader()"
   ]
  },
  {
   "cell_type": "code",
   "execution_count": 13,
   "metadata": {},
   "outputs": [],
   "source": [
    "from pytorch_lightning import Trainer"
   ]
  },
  {
   "cell_type": "code",
   "execution_count": 14,
   "metadata": {},
   "outputs": [],
   "source": [
    "from pytorch_lightning.callbacks import EarlyStopping, ModelCheckpoint"
   ]
  },
  {
   "cell_type": "code",
   "execution_count": 15,
   "metadata": {},
   "outputs": [],
   "source": [
    "es = EarlyStopping(monitor=\"val_loss\")\n",
    "mckpt = ModelCheckpoint(dirpath=\"outputs/mrpc-char/\", filename=\"checkpoint_{epoch:02d}-{val_loss:03.0f}\", monitor='val_loss', )"
   ]
  },
  {
   "cell_type": "code",
   "execution_count": 16,
   "metadata": {},
   "outputs": [
    {
     "name": "stderr",
     "output_type": "stream",
     "text": [
      "GPU available: True, used: True\n",
      "TPU available: False, using: 0 TPU cores\n",
      "IPU available: False, using: 0 IPUs\n",
      "HPU available: False, using: 0 HPUs\n"
     ]
    }
   ],
   "source": [
    "trainer = Trainer(callbacks=[es, mckpt], gpus=[1], max_epochs=1000)"
   ]
  },
  {
   "cell_type": "code",
   "execution_count": 17,
   "metadata": {},
   "outputs": [
    {
     "name": "stderr",
     "output_type": "stream",
     "text": [
      "Reusing dataset glue (/mnt/data1/hf_dataset_cache/glue/mrpc/1.0.0/dacbe3125aa31d7f70367a07a8a9e72a5a0bfeb5fc42e75c9db75b96da6053ad)\n",
      "100%|████████████████████████████████████████████████████████████████████████████████████| 3/3 [00:00<00:00, 679.72it/s]\n",
      "Reusing dataset glue (/mnt/data1/hf_dataset_cache/glue/mrpc/1.0.0/dacbe3125aa31d7f70367a07a8a9e72a5a0bfeb5fc42e75c9db75b96da6053ad)\n",
      "Loading cached processed dataset at /mnt/data1/hf_dataset_cache/glue/mrpc/1.0.0/dacbe3125aa31d7f70367a07a8a9e72a5a0bfeb5fc42e75c9db75b96da6053ad/cache-4c94838283d0c555.arrow\n",
      "Reusing dataset glue (/mnt/data1/hf_dataset_cache/glue/mrpc/1.0.0/dacbe3125aa31d7f70367a07a8a9e72a5a0bfeb5fc42e75c9db75b96da6053ad)\n",
      "Loading cached processed dataset at /mnt/data1/hf_dataset_cache/glue/mrpc/1.0.0/dacbe3125aa31d7f70367a07a8a9e72a5a0bfeb5fc42e75c9db75b96da6053ad/cache-6f8a7dfd1c2edfb8.arrow\n",
      "/mnt/data3/shared_envs/s4/lib/python3.8/site-packages/pytorch_lightning/callbacks/model_checkpoint.py:611: UserWarning: Checkpoint directory /mnt/data4/haryoaw_workspace/projects/2021_2/s4_happy/happy_s4/outputs/mrpc-char exists and is not empty.\n",
      "  rank_zero_warn(f\"Checkpoint directory {dirpath} exists and is not empty.\")\n",
      "LOCAL_RANK: 0 - CUDA_VISIBLE_DEVICES: [0,1]\n",
      "\n",
      "  | Name  | Type                     | Params\n",
      "---------------------------------------------------\n",
      "0 | model | S4_GO_BRR_Classification | 372 K \n",
      "---------------------------------------------------\n",
      "372 K     Trainable params\n",
      "0         Non-trainable params\n",
      "372 K     Total params\n",
      "1.490     Total estimated model params size (MB)\n"
     ]
    },
    {
     "name": "stdout",
     "output_type": "stream",
     "text": [
      "Sanity Checking DataLoader 0:   0%|                                                               | 0/2 [00:00<?, ?it/s]"
     ]
    },
    {
     "name": "stderr",
     "output_type": "stream",
     "text": [
      "/mnt/data3/shared_envs/s4/lib/python3.8/site-packages/pytorch_lightning/trainer/connectors/data_connector.py:240: PossibleUserWarning: The dataloader, val_dataloader 0, does not have many workers which may be a bottleneck. Consider increasing the value of the `num_workers` argument` (try 12 which is the number of cpus on this machine) in the `DataLoader` init to improve performance.\n",
      "  rank_zero_warn(\n"
     ]
    },
    {
     "name": "stdout",
     "output_type": "stream",
     "text": [
      "                                                                                                                        "
     ]
    },
    {
     "name": "stderr",
     "output_type": "stream",
     "text": [
      "/mnt/data3/shared_envs/s4/lib/python3.8/site-packages/pytorch_lightning/trainer/connectors/data_connector.py:240: PossibleUserWarning: The dataloader, train_dataloader, does not have many workers which may be a bottleneck. Consider increasing the value of the `num_workers` argument` (try 12 which is the number of cpus on this machine) in the `DataLoader` init to improve performance.\n",
      "  rank_zero_warn(\n"
     ]
    },
    {
     "name": "stdout",
     "output_type": "stream",
     "text": [
      "Epoch 0:  90%|█████████████████████████████████████████████▊     | 115/128 [00:03<00:00, 30.21it/s, loss=0.684, v_num=4]\n",
      "Validation: 0it [00:00, ?it/s]\u001b[A\n",
      "Validation DataLoader 0:   0%|                                                                   | 0/13 [00:00<?, ?it/s]\u001b[A\n",
      "Epoch 0:  91%|██████████████████████████████████████████████▏    | 116/128 [00:03<00:00, 30.27it/s, loss=0.684, v_num=4]\u001b[A\n",
      "Epoch 0:  91%|██████████████████████████████████████████████▌    | 117/128 [00:03<00:00, 30.42it/s, loss=0.684, v_num=4]\u001b[A\n",
      "Epoch 0:  92%|███████████████████████████████████████████████    | 118/128 [00:03<00:00, 30.57it/s, loss=0.684, v_num=4]\u001b[A\n",
      "Epoch 0:  93%|███████████████████████████████████████████████▍   | 119/128 [00:03<00:00, 30.72it/s, loss=0.684, v_num=4]\u001b[A\n",
      "Epoch 0:  94%|███████████████████████████████████████████████▊   | 120/128 [00:03<00:00, 30.85it/s, loss=0.684, v_num=4]\u001b[A\n",
      "Epoch 0:  95%|████████████████████████████████████████████████▏  | 121/128 [00:03<00:00, 30.99it/s, loss=0.684, v_num=4]\u001b[A\n",
      "Epoch 0:  95%|████████████████████████████████████████████████▌  | 122/128 [00:03<00:00, 31.12it/s, loss=0.684, v_num=4]\u001b[A\n",
      "Epoch 0:  96%|█████████████████████████████████████████████████  | 123/128 [00:03<00:00, 31.27it/s, loss=0.684, v_num=4]\u001b[A\n",
      "Epoch 0:  97%|█████████████████████████████████████████████████▍ | 124/128 [00:03<00:00, 31.41it/s, loss=0.684, v_num=4]\u001b[A\n",
      "Epoch 0:  98%|█████████████████████████████████████████████████▊ | 125/128 [00:03<00:00, 31.51it/s, loss=0.684, v_num=4]\u001b[A\n",
      "Epoch 0:  98%|██████████████████████████████████████████████████▏| 126/128 [00:03<00:00, 31.65it/s, loss=0.684, v_num=4]\u001b[A\n",
      "Epoch 0:  99%|██████████████████████████████████████████████████▌| 127/128 [00:03<00:00, 31.75it/s, loss=0.684, v_num=4]\u001b[A\n",
      "Epoch 0: 100%|███████████████████████████████████████████████████| 128/128 [00:04<00:00, 31.85it/s, loss=0.684, v_num=4]\u001b[A\n",
      "Epoch 1:  90%|███████████████████████████████████████████████▌     | 115/128 [00:07<00:00, 15.12it/s, loss=0.6, v_num=4]\u001b[A\n",
      "Validation: 0it [00:00, ?it/s]\u001b[A\n",
      "Validation DataLoader 0:   0%|                                                                   | 0/13 [00:00<?, ?it/s]\u001b[A\n",
      "Epoch 1:  91%|████████████████████████████████████████████████     | 116/128 [00:07<00:00, 15.20it/s, loss=0.6, v_num=4]\u001b[A\n",
      "Epoch 1:  91%|████████████████████████████████████████████████▍    | 117/128 [00:07<00:00, 15.30it/s, loss=0.6, v_num=4]\u001b[A\n",
      "Epoch 1:  92%|████████████████████████████████████████████████▊    | 118/128 [00:07<00:00, 15.41it/s, loss=0.6, v_num=4]\u001b[A\n",
      "Epoch 1:  93%|█████████████████████████████████████████████████▎   | 119/128 [00:07<00:00, 15.51it/s, loss=0.6, v_num=4]\u001b[A\n",
      "Epoch 1:  94%|█████████████████████████████████████████████████▋   | 120/128 [00:07<00:00, 15.61it/s, loss=0.6, v_num=4]\u001b[A\n",
      "Epoch 1:  95%|██████████████████████████████████████████████████   | 121/128 [00:07<00:00, 15.71it/s, loss=0.6, v_num=4]\u001b[A\n",
      "Epoch 1:  95%|██████████████████████████████████████████████████▌  | 122/128 [00:07<00:00, 15.81it/s, loss=0.6, v_num=4]\u001b[A\n",
      "Epoch 1:  96%|██████████████████████████████████████████████████▉  | 123/128 [00:07<00:00, 15.91it/s, loss=0.6, v_num=4]\u001b[A\n",
      "Epoch 1:  97%|███████████████████████████████████████████████████▎ | 124/128 [00:07<00:00, 16.01it/s, loss=0.6, v_num=4]\u001b[A\n",
      "Epoch 1:  98%|███████████████████████████████████████████████████▊ | 125/128 [00:07<00:00, 16.11it/s, loss=0.6, v_num=4]\u001b[A\n",
      "Epoch 1:  98%|████████████████████████████████████████████████████▏| 126/128 [00:07<00:00, 16.21it/s, loss=0.6, v_num=4]\u001b[A\n",
      "Epoch 1:  99%|████████████████████████████████████████████████████▌| 127/128 [00:07<00:00, 16.31it/s, loss=0.6, v_num=4]\u001b[A\n",
      "Epoch 1: 100%|█████████████████████████████████████████████████████| 128/128 [00:07<00:00, 16.40it/s, loss=0.6, v_num=4]\u001b[A\n",
      "Epoch 2:  90%|█████████████████████████████████████████████▊     | 115/128 [00:11<00:01, 10.09it/s, loss=0.583, v_num=4]\u001b[A\n",
      "Validation: 0it [00:00, ?it/s]\u001b[A\n",
      "Validation DataLoader 0:   0%|                                                                   | 0/13 [00:00<?, ?it/s]\u001b[A\n",
      "Epoch 2:  91%|██████████████████████████████████████████████▏    | 116/128 [00:11<00:01, 10.15it/s, loss=0.583, v_num=4]\u001b[A\n",
      "Epoch 2:  91%|██████████████████████████████████████████████▌    | 117/128 [00:11<00:01, 10.23it/s, loss=0.583, v_num=4]\u001b[A\n",
      "Epoch 2:  92%|███████████████████████████████████████████████    | 118/128 [00:11<00:00, 10.29it/s, loss=0.583, v_num=4]\u001b[A\n",
      "Epoch 2:  93%|███████████████████████████████████████████████▍   | 119/128 [00:11<00:00, 10.37it/s, loss=0.583, v_num=4]\u001b[A\n",
      "Epoch 2:  94%|███████████████████████████████████████████████▊   | 120/128 [00:11<00:00, 10.44it/s, loss=0.583, v_num=4]\u001b[A\n",
      "Epoch 2:  95%|████████████████████████████████████████████████▏  | 121/128 [00:11<00:00, 10.52it/s, loss=0.583, v_num=4]\u001b[A\n",
      "Epoch 2:  95%|████████████████████████████████████████████████▌  | 122/128 [00:11<00:00, 10.59it/s, loss=0.583, v_num=4]\u001b[A\n",
      "Epoch 2:  96%|█████████████████████████████████████████████████  | 123/128 [00:11<00:00, 10.66it/s, loss=0.583, v_num=4]\u001b[A\n",
      "Epoch 2:  97%|█████████████████████████████████████████████████▍ | 124/128 [00:11<00:00, 10.74it/s, loss=0.583, v_num=4]\u001b[A\n",
      "Epoch 2:  98%|█████████████████████████████████████████████████▊ | 125/128 [00:11<00:00, 10.81it/s, loss=0.583, v_num=4]\u001b[A\n",
      "Epoch 2:  98%|██████████████████████████████████████████████████▏| 126/128 [00:11<00:00, 10.88it/s, loss=0.583, v_num=4]\u001b[A\n",
      "Epoch 2:  99%|██████████████████████████████████████████████████▌| 127/128 [00:11<00:00, 10.96it/s, loss=0.583, v_num=4]\u001b[A\n",
      "Epoch 2: 100%|███████████████████████████████████████████████████| 128/128 [00:11<00:00, 11.03it/s, loss=0.583, v_num=4]\u001b[A\n",
      "Epoch 3:  90%|██████████████████████████████████████████████▋     | 115/128 [00:14<00:01,  7.69it/s, loss=0.57, v_num=4]\u001b[A\n",
      "Validation: 0it [00:00, ?it/s]\u001b[A\n",
      "Validation DataLoader 0:   0%|                                                                   | 0/13 [00:00<?, ?it/s]\u001b[A\n",
      "Epoch 3:  91%|███████████████████████████████████████████████▏    | 116/128 [00:14<00:01,  7.74it/s, loss=0.57, v_num=4]\u001b[A\n",
      "Epoch 3:  91%|███████████████████████████████████████████████▌    | 117/128 [00:14<00:01,  7.80it/s, loss=0.57, v_num=4]\u001b[A\n",
      "Epoch 3:  92%|███████████████████████████████████████████████▉    | 118/128 [00:15<00:01,  7.86it/s, loss=0.57, v_num=4]\u001b[A\n",
      "Epoch 3:  93%|████████████████████████████████████████████████▎   | 119/128 [00:15<00:01,  7.92it/s, loss=0.57, v_num=4]\u001b[A\n",
      "Epoch 3:  94%|████████████████████████████████████████████████▊   | 120/128 [00:15<00:01,  7.98it/s, loss=0.57, v_num=4]\u001b[A\n",
      "Epoch 3:  95%|█████████████████████████████████████████████████▏  | 121/128 [00:15<00:00,  8.04it/s, loss=0.57, v_num=4]\u001b[A\n",
      "Epoch 3:  95%|█████████████████████████████████████████████████▌  | 122/128 [00:15<00:00,  8.10it/s, loss=0.57, v_num=4]\u001b[A\n",
      "Epoch 3:  96%|█████████████████████████████████████████████████▉  | 123/128 [00:15<00:00,  8.16it/s, loss=0.57, v_num=4]\u001b[A\n",
      "Epoch 3:  97%|██████████████████████████████████████████████████▍ | 124/128 [00:15<00:00,  8.22it/s, loss=0.57, v_num=4]\u001b[A\n",
      "Epoch 3:  98%|██████████████████████████████████████████████████▊ | 125/128 [00:15<00:00,  8.28it/s, loss=0.57, v_num=4]\u001b[A\n",
      "Epoch 3:  98%|███████████████████████████████████████████████████▏| 126/128 [00:15<00:00,  8.33it/s, loss=0.57, v_num=4]\u001b[A\n",
      "Epoch 3:  99%|███████████████████████████████████████████████████▌| 127/128 [00:15<00:00,  8.39it/s, loss=0.57, v_num=4]\u001b[A\n",
      "Epoch 3: 100%|████████████████████████████████████████████████████| 128/128 [00:15<00:00,  8.45it/s, loss=0.57, v_num=4]\u001b[A\n",
      "Epoch 4:  90%|█████████████████████████████████████████████▊     | 115/128 [00:18<00:02,  6.22it/s, loss=0.559, v_num=4]\u001b[A\n",
      "Validation: 0it [00:00, ?it/s]\u001b[A\n",
      "Validation DataLoader 0:   0%|                                                                   | 0/13 [00:00<?, ?it/s]\u001b[A\n",
      "Epoch 4:  91%|██████████████████████████████████████████████▏    | 116/128 [00:18<00:01,  6.27it/s, loss=0.559, v_num=4]\u001b[A\n",
      "Epoch 4:  91%|██████████████████████████████████████████████▌    | 117/128 [00:18<00:01,  6.32it/s, loss=0.559, v_num=4]\u001b[A\n",
      "Epoch 4:  92%|███████████████████████████████████████████████    | 118/128 [00:18<00:01,  6.36it/s, loss=0.559, v_num=4]\u001b[A\n",
      "Epoch 4:  93%|███████████████████████████████████████████████▍   | 119/128 [00:18<00:01,  6.41it/s, loss=0.559, v_num=4]\u001b[A\n",
      "Epoch 4:  94%|███████████████████████████████████████████████▊   | 120/128 [00:18<00:01,  6.46it/s, loss=0.559, v_num=4]\u001b[A\n",
      "Epoch 4:  95%|████████████████████████████████████████████████▏  | 121/128 [00:18<00:01,  6.51it/s, loss=0.559, v_num=4]\u001b[A\n",
      "Epoch 4:  95%|████████████████████████████████████████████████▌  | 122/128 [00:18<00:00,  6.56it/s, loss=0.559, v_num=4]\u001b[A\n",
      "Epoch 4:  96%|█████████████████████████████████████████████████  | 123/128 [00:18<00:00,  6.61it/s, loss=0.559, v_num=4]\u001b[A\n",
      "Epoch 4:  97%|█████████████████████████████████████████████████▍ | 124/128 [00:18<00:00,  6.66it/s, loss=0.559, v_num=4]\u001b[A\n",
      "Epoch 4:  98%|█████████████████████████████████████████████████▊ | 125/128 [00:18<00:00,  6.70it/s, loss=0.559, v_num=4]\u001b[A\n",
      "Epoch 4:  98%|██████████████████████████████████████████████████▏| 126/128 [00:18<00:00,  6.75it/s, loss=0.559, v_num=4]\u001b[A\n",
      "Epoch 4:  99%|██████████████████████████████████████████████████▌| 127/128 [00:18<00:00,  6.80it/s, loss=0.559, v_num=4]\u001b[A\n",
      "Epoch 4: 100%|███████████████████████████████████████████████████| 128/128 [00:18<00:00,  6.85it/s, loss=0.559, v_num=4]\u001b[A\n",
      "Epoch 5:  90%|█████████████████████████████████████████████▊     | 115/128 [00:22<00:02,  5.17it/s, loss=0.548, v_num=4]\u001b[A\n",
      "Validation: 0it [00:00, ?it/s]\u001b[A\n",
      "Validation DataLoader 0:   0%|                                                                   | 0/13 [00:00<?, ?it/s]\u001b[A\n",
      "Epoch 5:  91%|██████████████████████████████████████████████▏    | 116/128 [00:22<00:02,  5.21it/s, loss=0.548, v_num=4]\u001b[A\n",
      "Epoch 5:  91%|██████████████████████████████████████████████▌    | 117/128 [00:22<00:02,  5.25it/s, loss=0.548, v_num=4]\u001b[A\n",
      "Epoch 5:  92%|███████████████████████████████████████████████    | 118/128 [00:22<00:01,  5.29it/s, loss=0.548, v_num=4]\u001b[A\n",
      "Epoch 5:  93%|███████████████████████████████████████████████▍   | 119/128 [00:22<00:01,  5.33it/s, loss=0.548, v_num=4]\u001b[A\n",
      "Epoch 5:  94%|███████████████████████████████████████████████▊   | 120/128 [00:22<00:01,  5.37it/s, loss=0.548, v_num=4]\u001b[A\n",
      "Epoch 5:  95%|████████████████████████████████████████████████▏  | 121/128 [00:22<00:01,  5.41it/s, loss=0.548, v_num=4]\u001b[A\n",
      "Epoch 5:  95%|████████████████████████████████████████████████▌  | 122/128 [00:22<00:01,  5.45it/s, loss=0.548, v_num=4]\u001b[A\n",
      "Epoch 5:  96%|█████████████████████████████████████████████████  | 123/128 [00:22<00:00,  5.50it/s, loss=0.548, v_num=4]\u001b[A\n",
      "Epoch 5:  97%|█████████████████████████████████████████████████▍ | 124/128 [00:22<00:00,  5.54it/s, loss=0.548, v_num=4]\u001b[A\n",
      "Epoch 5:  98%|█████████████████████████████████████████████████▊ | 125/128 [00:22<00:00,  5.58it/s, loss=0.548, v_num=4]\u001b[A\n",
      "Epoch 5:  98%|██████████████████████████████████████████████████▏| 126/128 [00:22<00:00,  5.62it/s, loss=0.548, v_num=4]\u001b[A\n",
      "Epoch 5:  99%|██████████████████████████████████████████████████▌| 127/128 [00:22<00:00,  5.66it/s, loss=0.548, v_num=4]\u001b[A\n",
      "Epoch 5: 100%|███████████████████████████████████████████████████| 128/128 [00:22<00:00,  5.70it/s, loss=0.548, v_num=4]\u001b[A\n",
      "Epoch 5: 100%|███████████████████████████████████████████████████| 128/128 [00:22<00:00,  5.70it/s, loss=0.548, v_num=4]\u001b[A\n"
     ]
    }
   ],
   "source": [
    "trainer.fit(model=lit_s4, datamodule=dm)"
   ]
  },
  {
   "cell_type": "code",
   "execution_count": 31,
   "metadata": {},
   "outputs": [],
   "source": [
    "lit_s4 = lit_s4.load_from_checkpoint(\"outputs/mrpc-char/checkpoint_epoch=02-val_loss=001.ckpt\")"
   ]
  },
  {
   "cell_type": "code",
   "execution_count": 32,
   "metadata": {},
   "outputs": [],
   "source": [
    "from happy_s4.data.data import WordTokenizer, shape_dataset\n",
    "from happy_s4.data.collators import BatchCollators"
   ]
  },
  {
   "cell_type": "code",
   "execution_count": 33,
   "metadata": {},
   "outputs": [],
   "source": [
    "import datasets\n",
    "from functools import partial"
   ]
  },
  {
   "cell_type": "code",
   "execution_count": 34,
   "metadata": {},
   "outputs": [],
   "source": [
    "from torch.utils.data import DataLoader"
   ]
  },
  {
   "cell_type": "code",
   "execution_count": 35,
   "metadata": {},
   "outputs": [
    {
     "name": "stderr",
     "output_type": "stream",
     "text": [
      "Reusing dataset glue (/mnt/data1/hf_dataset_cache/glue/mrpc/1.0.0/dacbe3125aa31d7f70367a07a8a9e72a5a0bfeb5fc42e75c9db75b96da6053ad)\n",
      "Loading cached processed dataset at /mnt/data1/hf_dataset_cache/glue/mrpc/1.0.0/dacbe3125aa31d7f70367a07a8a9e72a5a0bfeb5fc42e75c9db75b96da6053ad/cache-5bc522fcd8cb7341.arrow\n"
     ]
    }
   ],
   "source": [
    "data_test = datasets.load_dataset(\n",
    "    \"glue\",\n",
    "    \"mrpc\",\n",
    "    split=\"test\",\n",
    ")\n",
    "data_test = data_test.map(\n",
    "    partial(shape_dataset, word_tokenizer=dm.tokenizer)\n",
    ")\n"
   ]
  },
  {
   "cell_type": "code",
   "execution_count": 36,
   "metadata": {},
   "outputs": [],
   "source": [
    "data_test = data_test.remove_columns(['sentence1', 'sentence2', 'idx'])"
   ]
  },
  {
   "cell_type": "code",
   "execution_count": 37,
   "metadata": {},
   "outputs": [],
   "source": [
    "dl = DataLoader(\n",
    "    dataset=data_test,\n",
    "    collate_fn=BatchCollators(dm.tokenizer.pad_token_id),\n",
    "    batch_size=dm.args.batch_size,\n",
    "    shuffle=False\n",
    ")"
   ]
  },
  {
   "cell_type": "code",
   "execution_count": 38,
   "metadata": {},
   "outputs": [],
   "source": [
    "import torch"
   ]
  },
  {
   "cell_type": "code",
   "execution_count": 39,
   "metadata": {},
   "outputs": [],
   "source": [
    "preds = []\n",
    "gt = []"
   ]
  },
  {
   "cell_type": "code",
   "execution_count": 40,
   "metadata": {},
   "outputs": [],
   "source": [
    "from tqdm import tqdm"
   ]
  },
  {
   "cell_type": "code",
   "execution_count": 44,
   "metadata": {},
   "outputs": [
    {
     "data": {
      "text/plain": [
       "LitS4(\n",
       "  (model): S4_GO_BRR_Classification(\n",
       "    (backbone): S4_GO_BRR(\n",
       "      (s4): S4(\n",
       "        (kernel): HippoSSKernel(\n",
       "          (kernel): SSKernelNPLR()\n",
       "        )\n",
       "        (activation): GELU()\n",
       "        (dropout): Identity()\n",
       "        (output_linear): Linear(in_features=512, out_features=512, bias=True)\n",
       "      )\n",
       "      (embedding): Embedding(84, 512, padding_idx=0)\n",
       "    )\n",
       "  )\n",
       ")"
      ]
     },
     "execution_count": 44,
     "metadata": {},
     "output_type": "execute_result"
    }
   ],
   "source": [
    "lit_s4.eval()"
   ]
  },
  {
   "cell_type": "code",
   "execution_count": 56,
   "metadata": {},
   "outputs": [
    {
     "data": {
      "text/plain": [
       "tensor([ 6, 68, 14, 24, 16, 69,  6,  6, 21, 19, 17, 13,  7, 18, 18, 12, 21, 12,\n",
       "        10, 26, 13, 10, 27, 13, 21, 19, 17, 13, 19, 10, 15, 16, 17, 13, 16, 19,\n",
       "        10, 10, 21, 12, 26, 29, 13, 17, 48, 32,  7, 26, 18, 16, 13, 21, 19, 17,\n",
       "        13, 12, 26, 30, 17, 16, 21, 12, 29,  7, 21, 12, 10, 26, 13,  7,  9, 17,\n",
       "         7, 13, 17,  7, 16, 21, 13, 20, 28, 13, 21, 23, 10, 13,  8, 12, 24, 17,\n",
       "        16, 13, 22, 13, 23, 12, 21, 19, 13, 21, 19, 17, 13, 32, 10, 24, 12, 14,\n",
       "        17, 13, 26, 10, 23, 13, 17, 48,  7,  8, 12, 26, 12, 26, 29, 13,  7, 13,\n",
       "        16, 17, 30, 17, 26, 50,  8, 12, 24, 17, 13, 16, 17, 14, 21, 12, 10, 26,\n",
       "        13, 10, 27, 13, 21, 19, 17, 13, 27,  9, 17, 17, 23,  7, 28, 13, 31,  6,\n",
       "         6, 68, 16, 17, 32, 69,  6,  6, 21, 19, 17, 13, 19, 10, 15, 16, 17, 13,\n",
       "        16, 19, 10, 10, 21, 12, 26, 29, 13, 17, 48, 32,  7, 26, 18, 16, 13, 21,\n",
       "        19, 17, 13, 12, 26, 30, 17, 16, 21, 12, 29,  7, 21, 12, 10, 26, 13,  7,\n",
       "         9, 17,  7, 13, 17,  7, 16, 21, 13, 20, 28, 13, 21, 19,  9, 17, 17, 13,\n",
       "        33, 12, 24, 10,  8, 17, 21,  9, 17, 16, 13, 22, 13, 23, 12, 21, 19, 13,\n",
       "        21, 19, 17, 13, 32, 10, 24, 12, 14, 17, 13, 26, 10, 23, 13, 17, 48,  7,\n",
       "         8, 12, 26, 12, 26, 29, 13,  7, 26, 13, 35, 35, 50, 33, 12, 24, 10,  8,\n",
       "        17, 21,  9, 17, 13, 16, 17, 14, 21, 12, 10, 26, 13, 10, 27, 13, 21, 19,\n",
       "        17, 13, 27,  9, 17, 17, 23,  7, 28, 13, 31,  6,  6, 68, 16, 17, 32, 69,\n",
       "         6,  0,  0,  0,  0,  0,  0,  0,  0,  0,  0,  0,  0,  0,  0,  0,  0,  0,\n",
       "         0,  0,  0,  0,  0,  0,  0,  0,  0,  0,  0,  0,  0,  0,  0,  0,  0,  0,\n",
       "         0,  0,  0,  0,  0,  0,  0,  0,  0,  0,  0,  0,  0,  0,  0,  0,  0,  0,\n",
       "         0,  0,  0,  0,  0,  0,  0,  0,  0,  0,  0,  0,  0,  0,  0,  0,  0,  0,\n",
       "         0,  0,  0,  0,  0,  0,  0,  0,  0,  0,  0,  0,  0,  0,  0,  0,  0,  0,\n",
       "         0,  0,  0,  0,  0,  0,  0,  0,  0,  0,  0,  0,  0])"
      ]
     },
     "execution_count": 56,
     "metadata": {},
     "output_type": "execute_result"
    }
   ],
   "source": []
  },
  {
   "cell_type": "code",
   "execution_count": 59,
   "metadata": {},
   "outputs": [
    {
     "data": {
      "text/plain": [
       "['',\n",
       " '[',\n",
       " 'c',\n",
       " 'l',\n",
       " 's',\n",
       " ']',\n",
       " '',\n",
       " '',\n",
       " 't',\n",
       " 'h',\n",
       " 'e',\n",
       " ' ',\n",
       " 'a',\n",
       " 'd',\n",
       " 'd',\n",
       " 'i',\n",
       " 't',\n",
       " 'i',\n",
       " 'o',\n",
       " 'n',\n",
       " ' ',\n",
       " 'o',\n",
       " 'f',\n",
       " ' ',\n",
       " 't',\n",
       " 'h',\n",
       " 'e',\n",
       " ' ',\n",
       " 'h',\n",
       " 'o',\n",
       " 'u',\n",
       " 's',\n",
       " 'e',\n",
       " ' ',\n",
       " 's',\n",
       " 'h',\n",
       " 'o',\n",
       " 'o',\n",
       " 't',\n",
       " 'i',\n",
       " 'n',\n",
       " 'g',\n",
       " ' ',\n",
       " 'e',\n",
       " 'x',\n",
       " 'p',\n",
       " 'a',\n",
       " 'n',\n",
       " 'd',\n",
       " 's',\n",
       " ' ',\n",
       " 't',\n",
       " 'h',\n",
       " 'e',\n",
       " ' ',\n",
       " 'i',\n",
       " 'n',\n",
       " 'v',\n",
       " 'e',\n",
       " 's',\n",
       " 't',\n",
       " 'i',\n",
       " 'g',\n",
       " 'a',\n",
       " 't',\n",
       " 'i',\n",
       " 'o',\n",
       " 'n',\n",
       " ' ',\n",
       " 'a',\n",
       " 'r',\n",
       " 'e',\n",
       " 'a',\n",
       " ' ',\n",
       " 'e',\n",
       " 'a',\n",
       " 's',\n",
       " 't',\n",
       " ' ',\n",
       " 'b',\n",
       " 'y',\n",
       " ' ',\n",
       " 't',\n",
       " 'w',\n",
       " 'o',\n",
       " ' ',\n",
       " 'm',\n",
       " 'i',\n",
       " 'l',\n",
       " 'e',\n",
       " 's',\n",
       " ' ',\n",
       " ',',\n",
       " ' ',\n",
       " 'w',\n",
       " 'i',\n",
       " 't',\n",
       " 'h',\n",
       " ' ',\n",
       " 't',\n",
       " 'h',\n",
       " 'e',\n",
       " ' ',\n",
       " 'p',\n",
       " 'o',\n",
       " 'l',\n",
       " 'i',\n",
       " 'c',\n",
       " 'e',\n",
       " ' ',\n",
       " 'n',\n",
       " 'o',\n",
       " 'w',\n",
       " ' ',\n",
       " 'e',\n",
       " 'x',\n",
       " 'a',\n",
       " 'm',\n",
       " 'i',\n",
       " 'n',\n",
       " 'i',\n",
       " 'n',\n",
       " 'g',\n",
       " ' ',\n",
       " 'a',\n",
       " ' ',\n",
       " 's',\n",
       " 'e',\n",
       " 'v',\n",
       " 'e',\n",
       " 'n',\n",
       " '-',\n",
       " 'm',\n",
       " 'i',\n",
       " 'l',\n",
       " 'e',\n",
       " ' ',\n",
       " 's',\n",
       " 'e',\n",
       " 'c',\n",
       " 't',\n",
       " 'i',\n",
       " 'o',\n",
       " 'n',\n",
       " ' ',\n",
       " 'o',\n",
       " 'f',\n",
       " ' ',\n",
       " 't',\n",
       " 'h',\n",
       " 'e',\n",
       " ' ',\n",
       " 'f',\n",
       " 'r',\n",
       " 'e',\n",
       " 'e',\n",
       " 'w',\n",
       " 'a',\n",
       " 'y',\n",
       " ' ',\n",
       " '.',\n",
       " '',\n",
       " '',\n",
       " '[',\n",
       " 's',\n",
       " 'e',\n",
       " 'p',\n",
       " ']',\n",
       " '',\n",
       " '',\n",
       " 't',\n",
       " 'h',\n",
       " 'e',\n",
       " ' ',\n",
       " 'h',\n",
       " 'o',\n",
       " 'u',\n",
       " 's',\n",
       " 'e',\n",
       " ' ',\n",
       " 's',\n",
       " 'h',\n",
       " 'o',\n",
       " 'o',\n",
       " 't',\n",
       " 'i',\n",
       " 'n',\n",
       " 'g',\n",
       " ' ',\n",
       " 'e',\n",
       " 'x',\n",
       " 'p',\n",
       " 'a',\n",
       " 'n',\n",
       " 'd',\n",
       " 's',\n",
       " ' ',\n",
       " 't',\n",
       " 'h',\n",
       " 'e',\n",
       " ' ',\n",
       " 'i',\n",
       " 'n',\n",
       " 'v',\n",
       " 'e',\n",
       " 's',\n",
       " 't',\n",
       " 'i',\n",
       " 'g',\n",
       " 'a',\n",
       " 't',\n",
       " 'i',\n",
       " 'o',\n",
       " 'n',\n",
       " ' ',\n",
       " 'a',\n",
       " 'r',\n",
       " 'e',\n",
       " 'a',\n",
       " ' ',\n",
       " 'e',\n",
       " 'a',\n",
       " 's',\n",
       " 't',\n",
       " ' ',\n",
       " 'b',\n",
       " 'y',\n",
       " ' ',\n",
       " 't',\n",
       " 'h',\n",
       " 'r',\n",
       " 'e',\n",
       " 'e',\n",
       " ' ',\n",
       " 'k',\n",
       " 'i',\n",
       " 'l',\n",
       " 'o',\n",
       " 'm',\n",
       " 'e',\n",
       " 't',\n",
       " 'r',\n",
       " 'e',\n",
       " 's',\n",
       " ' ',\n",
       " ',',\n",
       " ' ',\n",
       " 'w',\n",
       " 'i',\n",
       " 't',\n",
       " 'h',\n",
       " ' ',\n",
       " 't',\n",
       " 'h',\n",
       " 'e',\n",
       " ' ',\n",
       " 'p',\n",
       " 'o',\n",
       " 'l',\n",
       " 'i',\n",
       " 'c',\n",
       " 'e',\n",
       " ' ',\n",
       " 'n',\n",
       " 'o',\n",
       " 'w',\n",
       " ' ',\n",
       " 'e',\n",
       " 'x',\n",
       " 'a',\n",
       " 'm',\n",
       " 'i',\n",
       " 'n',\n",
       " 'i',\n",
       " 'n',\n",
       " 'g',\n",
       " ' ',\n",
       " 'a',\n",
       " 'n',\n",
       " ' ',\n",
       " '1',\n",
       " '1',\n",
       " '-',\n",
       " 'k',\n",
       " 'i',\n",
       " 'l',\n",
       " 'o',\n",
       " 'm',\n",
       " 'e',\n",
       " 't',\n",
       " 'r',\n",
       " 'e',\n",
       " ' ',\n",
       " 's',\n",
       " 'e',\n",
       " 'c',\n",
       " 't',\n",
       " 'i',\n",
       " 'o',\n",
       " 'n',\n",
       " ' ',\n",
       " 'o',\n",
       " 'f',\n",
       " ' ',\n",
       " 't',\n",
       " 'h',\n",
       " 'e',\n",
       " ' ',\n",
       " 'f',\n",
       " 'r',\n",
       " 'e',\n",
       " 'e',\n",
       " 'w',\n",
       " 'a',\n",
       " 'y',\n",
       " ' ',\n",
       " '.',\n",
       " '',\n",
       " '',\n",
       " '[',\n",
       " 's',\n",
       " 'e',\n",
       " 'p',\n",
       " ']',\n",
       " '',\n",
       " '[pad]',\n",
       " '[pad]',\n",
       " '[pad]',\n",
       " '[pad]',\n",
       " '[pad]',\n",
       " '[pad]',\n",
       " '[pad]',\n",
       " '[pad]',\n",
       " '[pad]',\n",
       " '[pad]',\n",
       " '[pad]',\n",
       " '[pad]',\n",
       " '[pad]',\n",
       " '[pad]',\n",
       " '[pad]',\n",
       " '[pad]',\n",
       " '[pad]',\n",
       " '[pad]',\n",
       " '[pad]',\n",
       " '[pad]',\n",
       " '[pad]',\n",
       " '[pad]',\n",
       " '[pad]',\n",
       " '[pad]',\n",
       " '[pad]',\n",
       " '[pad]',\n",
       " '[pad]',\n",
       " '[pad]',\n",
       " '[pad]',\n",
       " '[pad]',\n",
       " '[pad]',\n",
       " '[pad]',\n",
       " '[pad]',\n",
       " '[pad]',\n",
       " '[pad]',\n",
       " '[pad]',\n",
       " '[pad]',\n",
       " '[pad]',\n",
       " '[pad]',\n",
       " '[pad]',\n",
       " '[pad]',\n",
       " '[pad]',\n",
       " '[pad]',\n",
       " '[pad]',\n",
       " '[pad]',\n",
       " '[pad]',\n",
       " '[pad]',\n",
       " '[pad]',\n",
       " '[pad]',\n",
       " '[pad]',\n",
       " '[pad]',\n",
       " '[pad]',\n",
       " '[pad]',\n",
       " '[pad]',\n",
       " '[pad]',\n",
       " '[pad]',\n",
       " '[pad]',\n",
       " '[pad]',\n",
       " '[pad]',\n",
       " '[pad]',\n",
       " '[pad]',\n",
       " '[pad]',\n",
       " '[pad]',\n",
       " '[pad]',\n",
       " '[pad]',\n",
       " '[pad]',\n",
       " '[pad]',\n",
       " '[pad]',\n",
       " '[pad]',\n",
       " '[pad]',\n",
       " '[pad]',\n",
       " '[pad]',\n",
       " '[pad]',\n",
       " '[pad]',\n",
       " '[pad]',\n",
       " '[pad]',\n",
       " '[pad]',\n",
       " '[pad]',\n",
       " '[pad]',\n",
       " '[pad]',\n",
       " '[pad]',\n",
       " '[pad]',\n",
       " '[pad]',\n",
       " '[pad]',\n",
       " '[pad]',\n",
       " '[pad]',\n",
       " '[pad]',\n",
       " '[pad]',\n",
       " '[pad]',\n",
       " '[pad]',\n",
       " '[pad]',\n",
       " '[pad]',\n",
       " '[pad]',\n",
       " '[pad]',\n",
       " '[pad]',\n",
       " '[pad]',\n",
       " '[pad]',\n",
       " '[pad]',\n",
       " '[pad]',\n",
       " '[pad]',\n",
       " '[pad]',\n",
       " '[pad]']"
      ]
     },
     "execution_count": 59,
     "metadata": {},
     "output_type": "execute_result"
    }
   ],
   "source": [
    "[dm.tokenizer.vocab.get_itos()[x] for x in batch['input_ids'][16]]"
   ]
  },
  {
   "cell_type": "code",
   "execution_count": 45,
   "metadata": {},
   "outputs": [
    {
     "name": "stderr",
     "output_type": "stream",
     "text": [
      "100%|███████████████████████████████████████████████████████████████████████████████████| 54/54 [00:04<00:00, 12.92it/s]\n"
     ]
    }
   ],
   "source": [
    "for batch in tqdm(dl):\n",
    "    with torch.no_grad(): \n",
    "        _, logits = lit_s4(input_ids=batch['input_ids'], labels=batch['label'])\n",
    "        label = logits.argmax(dim=1).numpy().tolist()\n",
    "        gt.extend(batch['label'].numpy().tolist())\n",
    "        preds.extend(label)"
   ]
  },
  {
   "cell_type": "code",
   "execution_count": 46,
   "metadata": {},
   "outputs": [],
   "source": [
    "from sklearn.metrics import accuracy_score"
   ]
  },
  {
   "cell_type": "code",
   "execution_count": 47,
   "metadata": {},
   "outputs": [
    {
     "data": {
      "text/plain": [
       "0.6689855072463768"
      ]
     },
     "execution_count": 47,
     "metadata": {},
     "output_type": "execute_result"
    }
   ],
   "source": [
    "accuracy_score(gt, preds)"
   ]
  },
  {
   "cell_type": "code",
   "execution_count": null,
   "metadata": {},
   "outputs": [],
   "source": []
  }
 ],
 "metadata": {
  "kernelspec": {
   "display_name": "s4",
   "language": "python",
   "name": "s4"
  },
  "language_info": {
   "codemirror_mode": {
    "name": "ipython",
    "version": 3
   },
   "file_extension": ".py",
   "mimetype": "text/x-python",
   "name": "python",
   "nbconvert_exporter": "python",
   "pygments_lexer": "ipython3",
   "version": "3.8.13"
  }
 },
 "nbformat": 4,
 "nbformat_minor": 4
}
