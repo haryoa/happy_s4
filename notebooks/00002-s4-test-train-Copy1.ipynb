{
 "cells": [
  {
   "cell_type": "code",
   "execution_count": 1,
   "metadata": {},
   "outputs": [
    {
     "name": "stdout",
     "output_type": "stream",
     "text": [
      "/mnt/data4/haryoaw_workspace/projects/2021_2/s4_happy/happy_s4\n"
     ]
    }
   ],
   "source": [
    "%cd ..\n",
    "%load_ext autoreload\n",
    "%autoreload 2"
   ]
  },
  {
   "cell_type": "code",
   "execution_count": 2,
   "metadata": {},
   "outputs": [
    {
     "name": "stderr",
     "output_type": "stream",
     "text": [
      "/mnt/data3/shared_envs/s4/lib/python3.8/site-packages/tqdm/auto.py:22: TqdmWarning: IProgress not found. Please update jupyter and ipywidgets. See https://ipywidgets.readthedocs.io/en/stable/user_install.html\n",
      "  from .autonotebook import tqdm as notebook_tqdm\n"
     ]
    }
   ],
   "source": [
    "from happy_s4.data.lit_data import HFLitDataArgs, HFLitDataModule"
   ]
  },
  {
   "cell_type": "code",
   "execution_count": 3,
   "metadata": {},
   "outputs": [
    {
     "name": "stderr",
     "output_type": "stream",
     "text": [
      "CUDA extension for cauchy multiplication not found. Install by going to extensions/cauchy/ and running `python setup.py install`. This should speed up end-to-end training by 10-50%\n"
     ]
    }
   ],
   "source": [
    "from happy_s4.model.lit_model import LitS4Args, LitS4\n",
    "from happy_s4.model.s4_wrap import S4_GO_BRR_ARGS"
   ]
  },
  {
   "cell_type": "code",
   "execution_count": 4,
   "metadata": {},
   "outputs": [],
   "source": [
    "lit_args = HFLitDataArgs(min_freq=1)"
   ]
  },
  {
   "cell_type": "code",
   "execution_count": 5,
   "metadata": {},
   "outputs": [],
   "source": [
    "dm = HFLitDataModule(lit_args)"
   ]
  },
  {
   "cell_type": "code",
   "execution_count": 6,
   "metadata": {},
   "outputs": [
    {
     "name": "stderr",
     "output_type": "stream",
     "text": [
      "Reusing dataset glue (/mnt/data1/hf_dataset_cache/glue/mrpc/1.0.0/dacbe3125aa31d7f70367a07a8a9e72a5a0bfeb5fc42e75c9db75b96da6053ad)\n",
      "Loading cached processed dataset at /mnt/data1/hf_dataset_cache/glue/mrpc/1.0.0/dacbe3125aa31d7f70367a07a8a9e72a5a0bfeb5fc42e75c9db75b96da6053ad/cache-f52da7787b76a170.arrow\n",
      "Reusing dataset glue (/mnt/data1/hf_dataset_cache/glue/mrpc/1.0.0/dacbe3125aa31d7f70367a07a8a9e72a5a0bfeb5fc42e75c9db75b96da6053ad)\n",
      "100%|███████████████████████████████████████████████████████████████████████████████| 408/408 [00:00<00:00, 5686.76ex/s]\n"
     ]
    }
   ],
   "source": [
    "dm.setup()"
   ]
  },
  {
   "cell_type": "code",
   "execution_count": 7,
   "metadata": {},
   "outputs": [],
   "source": [
    "vocab_size = len(dm.tokenizer.vocab.get_itos())\n",
    "pad_token_id = dm.tokenizer.pad_token_id\n"
   ]
  },
  {
   "cell_type": "code",
   "execution_count": 8,
   "metadata": {},
   "outputs": [],
   "source": [
    "s4_args = S4_GO_BRR_ARGS(pad_token_id=pad_token_id, vocab_size=vocab_size, d_model=256, l_max=2000, channels=1,hurwitz=True, transposed=False)"
   ]
  },
  {
   "cell_type": "code",
   "execution_count": 9,
   "metadata": {},
   "outputs": [],
   "source": [
    "lit_s4_args = LitS4Args(s4_args=s4_args)"
   ]
  },
  {
   "cell_type": "code",
   "execution_count": 10,
   "metadata": {},
   "outputs": [],
   "source": [
    "lit_s4 = LitS4(lit_s4_args)"
   ]
  },
  {
   "cell_type": "code",
   "execution_count": 11,
   "metadata": {},
   "outputs": [],
   "source": [
    "dl = dm.val_dataloader()"
   ]
  },
  {
   "cell_type": "code",
   "execution_count": 12,
   "metadata": {},
   "outputs": [],
   "source": [
    "from pytorch_lightning import Trainer"
   ]
  },
  {
   "cell_type": "code",
   "execution_count": 13,
   "metadata": {},
   "outputs": [],
   "source": [
    "from pytorch_lightning.callbacks import EarlyStopping, ModelCheckpoint"
   ]
  },
  {
   "cell_type": "code",
   "execution_count": 14,
   "metadata": {},
   "outputs": [],
   "source": [
    "es = EarlyStopping(monitor=\"val_loss\")\n",
    "mckpt = ModelCheckpoint(dirpath=\"outputs/mrpc/\", filename=\"checkpoint_{epoch:02d}-{val_loss:03.0f}\", monitor='val_loss', )"
   ]
  },
  {
   "cell_type": "code",
   "execution_count": 16,
   "metadata": {},
   "outputs": [
    {
     "name": "stderr",
     "output_type": "stream",
     "text": [
      "GPU available: True, used: True\n",
      "TPU available: False, using: 0 TPU cores\n",
      "IPU available: False, using: 0 IPUs\n",
      "HPU available: False, using: 0 HPUs\n"
     ]
    }
   ],
   "source": [
    "trainer = Trainer(callbacks=[es, mckpt], gpus=[1], max_epochs=1000)"
   ]
  },
  {
   "cell_type": "code",
   "execution_count": 17,
   "metadata": {},
   "outputs": [
    {
     "name": "stderr",
     "output_type": "stream",
     "text": [
      "Reusing dataset glue (/mnt/data1/hf_dataset_cache/glue/mrpc/1.0.0/dacbe3125aa31d7f70367a07a8a9e72a5a0bfeb5fc42e75c9db75b96da6053ad)\n",
      "100%|████████████████████████████████████████████████████████████████████████████████████| 3/3 [00:00<00:00, 774.71it/s]\n",
      "Reusing dataset glue (/mnt/data1/hf_dataset_cache/glue/mrpc/1.0.0/dacbe3125aa31d7f70367a07a8a9e72a5a0bfeb5fc42e75c9db75b96da6053ad)\n",
      "Loading cached processed dataset at /mnt/data1/hf_dataset_cache/glue/mrpc/1.0.0/dacbe3125aa31d7f70367a07a8a9e72a5a0bfeb5fc42e75c9db75b96da6053ad/cache-f52da7787b76a170.arrow\n",
      "Reusing dataset glue (/mnt/data1/hf_dataset_cache/glue/mrpc/1.0.0/dacbe3125aa31d7f70367a07a8a9e72a5a0bfeb5fc42e75c9db75b96da6053ad)\n",
      "Loading cached processed dataset at /mnt/data1/hf_dataset_cache/glue/mrpc/1.0.0/dacbe3125aa31d7f70367a07a8a9e72a5a0bfeb5fc42e75c9db75b96da6053ad/cache-11edd22d6dc380ff.arrow\n",
      "/mnt/data3/shared_envs/s4/lib/python3.8/site-packages/pytorch_lightning/callbacks/model_checkpoint.py:611: UserWarning: Checkpoint directory /mnt/data4/haryoaw_workspace/projects/2021_2/s4_happy/happy_s4/outputs/mrpc exists and is not empty.\n",
      "  rank_zero_warn(f\"Checkpoint directory {dirpath} exists and is not empty.\")\n",
      "LOCAL_RANK: 0 - CUDA_VISIBLE_DEVICES: [0,1]\n",
      "\n",
      "  | Name  | Type                     | Params\n",
      "---------------------------------------------------\n",
      "0 | model | S4_GO_BRR_Classification | 3.7 M \n",
      "---------------------------------------------------\n",
      "3.7 M     Trainable params\n",
      "0         Non-trainable params\n",
      "3.7 M     Total params\n",
      "14.663    Total estimated model params size (MB)\n"
     ]
    },
    {
     "name": "stdout",
     "output_type": "stream",
     "text": [
      "Sanity Checking DataLoader 0:   0%|                                                               | 0/2 [00:00<?, ?it/s]"
     ]
    },
    {
     "name": "stderr",
     "output_type": "stream",
     "text": [
      "/mnt/data3/shared_envs/s4/lib/python3.8/site-packages/pytorch_lightning/trainer/connectors/data_connector.py:240: PossibleUserWarning: The dataloader, val_dataloader 0, does not have many workers which may be a bottleneck. Consider increasing the value of the `num_workers` argument` (try 12 which is the number of cpus on this machine) in the `DataLoader` init to improve performance.\n",
      "  rank_zero_warn(\n"
     ]
    },
    {
     "name": "stdout",
     "output_type": "stream",
     "text": [
      "                                                                                                                        "
     ]
    },
    {
     "name": "stderr",
     "output_type": "stream",
     "text": [
      "/mnt/data3/shared_envs/s4/lib/python3.8/site-packages/pytorch_lightning/trainer/connectors/data_connector.py:240: PossibleUserWarning: The dataloader, train_dataloader, does not have many workers which may be a bottleneck. Consider increasing the value of the `num_workers` argument` (try 12 which is the number of cpus on this machine) in the `DataLoader` init to improve performance.\n",
      "  rank_zero_warn(\n"
     ]
    },
    {
     "name": "stdout",
     "output_type": "stream",
     "text": [
      "Epoch 0:  90%|█████████████████████████████████████████████▊     | 115/128 [00:02<00:00, 43.32it/s, loss=0.997, v_num=1]\n",
      "Validation: 0it [00:00, ?it/s]\u001b[A\n",
      "Validation DataLoader 0:   0%|                                                                   | 0/13 [00:00<?, ?it/s]\u001b[A\n",
      "Epoch 0:  91%|██████████████████████████████████████████████▏    | 116/128 [00:02<00:00, 43.32it/s, loss=0.997, v_num=1]\u001b[A\n",
      "Epoch 0:  91%|██████████████████████████████████████████████▌    | 117/128 [00:02<00:00, 43.51it/s, loss=0.997, v_num=1]\u001b[A\n",
      "Epoch 0:  92%|███████████████████████████████████████████████    | 118/128 [00:02<00:00, 43.71it/s, loss=0.997, v_num=1]\u001b[A\n",
      "Epoch 0:  93%|███████████████████████████████████████████████▍   | 119/128 [00:02<00:00, 43.91it/s, loss=0.997, v_num=1]\u001b[A\n",
      "Epoch 0:  94%|███████████████████████████████████████████████▊   | 120/128 [00:02<00:00, 44.10it/s, loss=0.997, v_num=1]\u001b[A\n",
      "Epoch 0:  95%|████████████████████████████████████████████████▏  | 121/128 [00:02<00:00, 44.30it/s, loss=0.997, v_num=1]\u001b[A\n",
      "Epoch 0:  95%|████████████████████████████████████████████████▌  | 122/128 [00:02<00:00, 44.49it/s, loss=0.997, v_num=1]\u001b[A\n",
      "Epoch 0:  96%|█████████████████████████████████████████████████  | 123/128 [00:02<00:00, 44.68it/s, loss=0.997, v_num=1]\u001b[A\n",
      "Epoch 0:  97%|█████████████████████████████████████████████████▍ | 124/128 [00:02<00:00, 44.88it/s, loss=0.997, v_num=1]\u001b[A\n",
      "Epoch 0:  98%|█████████████████████████████████████████████████▊ | 125/128 [00:02<00:00, 45.07it/s, loss=0.997, v_num=1]\u001b[A\n",
      "Epoch 0:  98%|██████████████████████████████████████████████████▏| 126/128 [00:02<00:00, 45.27it/s, loss=0.997, v_num=1]\u001b[A\n",
      "Epoch 0:  99%|██████████████████████████████████████████████████▌| 127/128 [00:02<00:00, 45.46it/s, loss=0.997, v_num=1]\u001b[A\n",
      "Epoch 0: 100%|███████████████████████████████████████████████████| 128/128 [00:02<00:00, 45.59it/s, loss=0.997, v_num=1]\u001b[A\n",
      "Epoch 1:  90%|█████████████████████████████████████████████▊     | 115/128 [00:05<00:00, 20.47it/s, loss=0.633, v_num=1]\u001b[A\n",
      "Validation: 0it [00:00, ?it/s]\u001b[A\n",
      "Validation DataLoader 0:   0%|                                                                   | 0/13 [00:00<?, ?it/s]\u001b[A\n",
      "Epoch 1:  91%|██████████████████████████████████████████████▏    | 116/128 [00:05<00:00, 20.57it/s, loss=0.633, v_num=1]\u001b[A\n",
      "Epoch 1:  91%|██████████████████████████████████████████████▌    | 117/128 [00:05<00:00, 20.71it/s, loss=0.633, v_num=1]\u001b[A\n",
      "Epoch 1:  92%|███████████████████████████████████████████████    | 118/128 [00:05<00:00, 20.85it/s, loss=0.633, v_num=1]\u001b[A\n",
      "Epoch 1:  93%|███████████████████████████████████████████████▍   | 119/128 [00:05<00:00, 20.99it/s, loss=0.633, v_num=1]\u001b[A\n",
      "Epoch 1:  94%|███████████████████████████████████████████████▊   | 120/128 [00:05<00:00, 21.12it/s, loss=0.633, v_num=1]\u001b[A\n",
      "Epoch 1:  95%|████████████████████████████████████████████████▏  | 121/128 [00:05<00:00, 21.26it/s, loss=0.633, v_num=1]\u001b[A\n",
      "Epoch 1:  95%|████████████████████████████████████████████████▌  | 122/128 [00:05<00:00, 21.39it/s, loss=0.633, v_num=1]\u001b[A\n",
      "Epoch 1:  96%|█████████████████████████████████████████████████  | 123/128 [00:05<00:00, 21.53it/s, loss=0.633, v_num=1]\u001b[A\n",
      "Epoch 1:  97%|█████████████████████████████████████████████████▍ | 124/128 [00:05<00:00, 21.67it/s, loss=0.633, v_num=1]\u001b[A\n",
      "Epoch 1:  98%|█████████████████████████████████████████████████▊ | 125/128 [00:05<00:00, 21.80it/s, loss=0.633, v_num=1]\u001b[A\n",
      "Epoch 1:  98%|██████████████████████████████████████████████████▏| 126/128 [00:05<00:00, 21.94it/s, loss=0.633, v_num=1]\u001b[A\n",
      "Epoch 1:  99%|██████████████████████████████████████████████████▌| 127/128 [00:05<00:00, 22.07it/s, loss=0.633, v_num=1]\u001b[A\n",
      "Epoch 1: 100%|███████████████████████████████████████████████████| 128/128 [00:05<00:00, 22.20it/s, loss=0.633, v_num=1]\u001b[A\n",
      "Epoch 2:  90%|██████████████████████████████████████████████▋     | 115/128 [00:08<00:00, 13.43it/s, loss=0.57, v_num=1]\u001b[A\n",
      "Validation: 0it [00:00, ?it/s]\u001b[A\n",
      "Validation DataLoader 0:   0%|                                                                   | 0/13 [00:00<?, ?it/s]\u001b[A\n",
      "Epoch 2:  91%|███████████████████████████████████████████████▏    | 116/128 [00:08<00:00, 13.52it/s, loss=0.57, v_num=1]\u001b[A\n",
      "Epoch 2:  91%|███████████████████████████████████████████████▌    | 117/128 [00:08<00:00, 13.62it/s, loss=0.57, v_num=1]\u001b[A\n",
      "Epoch 2:  92%|███████████████████████████████████████████████▉    | 118/128 [00:08<00:00, 13.71it/s, loss=0.57, v_num=1]\u001b[A\n",
      "Epoch 2:  93%|████████████████████████████████████████████████▎   | 119/128 [00:08<00:00, 13.81it/s, loss=0.57, v_num=1]\u001b[A\n",
      "Epoch 2:  94%|████████████████████████████████████████████████▊   | 120/128 [00:08<00:00, 13.91it/s, loss=0.57, v_num=1]\u001b[A\n",
      "Epoch 2:  95%|█████████████████████████████████████████████████▏  | 121/128 [00:08<00:00, 14.01it/s, loss=0.57, v_num=1]\u001b[A\n",
      "Epoch 2:  95%|█████████████████████████████████████████████████▌  | 122/128 [00:08<00:00, 14.11it/s, loss=0.57, v_num=1]\u001b[A\n",
      "Epoch 2:  96%|█████████████████████████████████████████████████▉  | 123/128 [00:08<00:00, 14.21it/s, loss=0.57, v_num=1]\u001b[A\n",
      "Epoch 2:  97%|██████████████████████████████████████████████████▍ | 124/128 [00:08<00:00, 14.31it/s, loss=0.57, v_num=1]\u001b[A\n",
      "Epoch 2:  98%|██████████████████████████████████████████████████▊ | 125/128 [00:08<00:00, 14.40it/s, loss=0.57, v_num=1]\u001b[A\n",
      "Epoch 2:  98%|███████████████████████████████████████████████████▏| 126/128 [00:08<00:00, 14.50it/s, loss=0.57, v_num=1]\u001b[A\n",
      "Epoch 2:  99%|███████████████████████████████████████████████████▌| 127/128 [00:08<00:00, 14.60it/s, loss=0.57, v_num=1]\u001b[A\n",
      "Epoch 2: 100%|████████████████████████████████████████████████████| 128/128 [00:08<00:00, 14.69it/s, loss=0.57, v_num=1]\u001b[A\n",
      "Epoch 3:  90%|█████████████████████████████████████████████▊     | 115/128 [00:11<00:01, 10.02it/s, loss=0.514, v_num=1]\u001b[A\n",
      "Validation: 0it [00:00, ?it/s]\u001b[A\n",
      "Validation DataLoader 0:   0%|                                                                   | 0/13 [00:00<?, ?it/s]\u001b[A\n",
      "Epoch 3:  91%|██████████████████████████████████████████████▏    | 116/128 [00:11<00:01, 10.09it/s, loss=0.514, v_num=1]\u001b[A\n",
      "Epoch 3:  91%|██████████████████████████████████████████████▌    | 117/128 [00:11<00:01, 10.17it/s, loss=0.514, v_num=1]\u001b[A\n",
      "Epoch 3:  92%|███████████████████████████████████████████████    | 118/128 [00:11<00:00, 10.25it/s, loss=0.514, v_num=1]\u001b[A\n",
      "Epoch 3:  93%|███████████████████████████████████████████████▍   | 119/128 [00:11<00:00, 10.33it/s, loss=0.514, v_num=1]\u001b[A\n",
      "Epoch 3:  94%|███████████████████████████████████████████████▊   | 120/128 [00:11<00:00, 10.40it/s, loss=0.514, v_num=1]\u001b[A\n",
      "Epoch 3:  95%|████████████████████████████████████████████████▏  | 121/128 [00:11<00:00, 10.48it/s, loss=0.514, v_num=1]\u001b[A\n",
      "Epoch 3:  95%|████████████████████████████████████████████████▌  | 122/128 [00:11<00:00, 10.56it/s, loss=0.514, v_num=1]\u001b[A\n",
      "Epoch 3:  96%|█████████████████████████████████████████████████  | 123/128 [00:11<00:00, 10.63it/s, loss=0.514, v_num=1]\u001b[A\n",
      "Epoch 3:  97%|█████████████████████████████████████████████████▍ | 124/128 [00:11<00:00, 10.71it/s, loss=0.514, v_num=1]\u001b[A\n",
      "Epoch 3:  98%|█████████████████████████████████████████████████▊ | 125/128 [00:11<00:00, 10.79it/s, loss=0.514, v_num=1]\u001b[A\n",
      "Epoch 3:  98%|██████████████████████████████████████████████████▏| 126/128 [00:11<00:00, 10.86it/s, loss=0.514, v_num=1]\u001b[A\n",
      "Epoch 3:  99%|██████████████████████████████████████████████████▌| 127/128 [00:11<00:00, 10.94it/s, loss=0.514, v_num=1]\u001b[A\n",
      "Epoch 3: 100%|███████████████████████████████████████████████████| 128/128 [00:11<00:00, 11.02it/s, loss=0.514, v_num=1]\u001b[A\n",
      "Epoch 4:  90%|█████████████████████████████████████████████▊     | 115/128 [00:14<00:01,  8.01it/s, loss=0.442, v_num=1]\u001b[A\n",
      "Validation: 0it [00:00, ?it/s]\u001b[A\n",
      "Validation DataLoader 0:   0%|                                                                   | 0/13 [00:00<?, ?it/s]\u001b[A\n",
      "Epoch 4:  91%|██████████████████████████████████████████████▏    | 116/128 [00:14<00:01,  8.06it/s, loss=0.442, v_num=1]\u001b[A\n",
      "Epoch 4:  91%|██████████████████████████████████████████████▌    | 117/128 [00:14<00:01,  8.13it/s, loss=0.442, v_num=1]\u001b[A\n",
      "Epoch 4:  92%|███████████████████████████████████████████████    | 118/128 [00:14<00:01,  8.19it/s, loss=0.442, v_num=1]\u001b[A\n",
      "Epoch 4:  93%|███████████████████████████████████████████████▍   | 119/128 [00:14<00:01,  8.25it/s, loss=0.442, v_num=1]\u001b[A\n",
      "Epoch 4:  94%|███████████████████████████████████████████████▊   | 120/128 [00:14<00:00,  8.32it/s, loss=0.442, v_num=1]\u001b[A\n",
      "Epoch 4:  95%|████████████████████████████████████████████████▏  | 121/128 [00:14<00:00,  8.38it/s, loss=0.442, v_num=1]\u001b[A\n",
      "Epoch 4:  95%|████████████████████████████████████████████████▌  | 122/128 [00:14<00:00,  8.44it/s, loss=0.442, v_num=1]\u001b[A\n",
      "Epoch 4:  96%|█████████████████████████████████████████████████  | 123/128 [00:14<00:00,  8.51it/s, loss=0.442, v_num=1]\u001b[A\n",
      "Epoch 4:  97%|█████████████████████████████████████████████████▍ | 124/128 [00:14<00:00,  8.57it/s, loss=0.442, v_num=1]\u001b[A\n",
      "Epoch 4:  98%|█████████████████████████████████████████████████▊ | 125/128 [00:14<00:00,  8.63it/s, loss=0.442, v_num=1]\u001b[A\n",
      "Epoch 4:  98%|██████████████████████████████████████████████████▏| 126/128 [00:14<00:00,  8.69it/s, loss=0.442, v_num=1]\u001b[A\n",
      "Epoch 4:  99%|██████████████████████████████████████████████████▌| 127/128 [00:14<00:00,  8.76it/s, loss=0.442, v_num=1]\u001b[A\n",
      "Epoch 4: 100%|███████████████████████████████████████████████████| 128/128 [00:14<00:00,  8.82it/s, loss=0.442, v_num=1]\u001b[A\n",
      "Epoch 5:  90%|█████████████████████████████████████████████▊     | 115/128 [00:17<00:01,  6.69it/s, loss=0.352, v_num=1]\u001b[A\n",
      "Validation: 0it [00:00, ?it/s]\u001b[A\n",
      "Validation DataLoader 0:   0%|                                                                   | 0/13 [00:00<?, ?it/s]\u001b[A\n",
      "Epoch 5:  91%|██████████████████████████████████████████████▏    | 116/128 [00:17<00:01,  6.74it/s, loss=0.352, v_num=1]\u001b[A\n",
      "Epoch 5:  91%|██████████████████████████████████████████████▌    | 117/128 [00:17<00:01,  6.80it/s, loss=0.352, v_num=1]\u001b[A\n",
      "Epoch 5:  92%|███████████████████████████████████████████████    | 118/128 [00:17<00:01,  6.85it/s, loss=0.352, v_num=1]\u001b[A\n",
      "Epoch 5:  93%|███████████████████████████████████████████████▍   | 119/128 [00:17<00:01,  6.91it/s, loss=0.352, v_num=1]\u001b[A\n",
      "Epoch 5:  94%|███████████████████████████████████████████████▊   | 120/128 [00:17<00:01,  6.96it/s, loss=0.352, v_num=1]\u001b[A\n",
      "Epoch 5:  95%|████████████████████████████████████████████████▏  | 121/128 [00:17<00:00,  7.01it/s, loss=0.352, v_num=1]\u001b[A\n",
      "Epoch 5:  95%|████████████████████████████████████████████████▌  | 122/128 [00:17<00:00,  7.07it/s, loss=0.352, v_num=1]\u001b[A\n",
      "Epoch 5:  96%|█████████████████████████████████████████████████  | 123/128 [00:17<00:00,  7.12it/s, loss=0.352, v_num=1]\u001b[A\n",
      "Epoch 5:  97%|█████████████████████████████████████████████████▍ | 124/128 [00:17<00:00,  7.17it/s, loss=0.352, v_num=1]\u001b[A\n",
      "Epoch 5:  98%|█████████████████████████████████████████████████▊ | 125/128 [00:17<00:00,  7.23it/s, loss=0.352, v_num=1]\u001b[A\n",
      "Epoch 5:  98%|██████████████████████████████████████████████████▏| 126/128 [00:17<00:00,  7.28it/s, loss=0.352, v_num=1]\u001b[A\n",
      "Epoch 5:  99%|██████████████████████████████████████████████████▌| 127/128 [00:17<00:00,  7.33it/s, loss=0.352, v_num=1]\u001b[A\n",
      "Epoch 5: 100%|███████████████████████████████████████████████████| 128/128 [00:17<00:00,  7.39it/s, loss=0.352, v_num=1]\u001b[A\n",
      "Epoch 6:  90%|█████████████████████████████████████████████▊     | 115/128 [00:20<00:02,  5.75it/s, loss=0.254, v_num=1]\u001b[A\n",
      "Validation: 0it [00:00, ?it/s]\u001b[A\n",
      "Validation DataLoader 0:   0%|                                                                   | 0/13 [00:00<?, ?it/s]\u001b[A\n",
      "Epoch 6:  91%|██████████████████████████████████████████████▏    | 116/128 [00:20<00:02,  5.79it/s, loss=0.254, v_num=1]\u001b[A\n",
      "Epoch 6:  91%|██████████████████████████████████████████████▌    | 117/128 [00:20<00:01,  5.84it/s, loss=0.254, v_num=1]\u001b[A\n",
      "Epoch 6:  92%|███████████████████████████████████████████████    | 118/128 [00:20<00:01,  5.88it/s, loss=0.254, v_num=1]\u001b[A\n",
      "Epoch 6:  93%|███████████████████████████████████████████████▍   | 119/128 [00:20<00:01,  5.93it/s, loss=0.254, v_num=1]\u001b[A\n",
      "Epoch 6:  94%|███████████████████████████████████████████████▊   | 120/128 [00:20<00:01,  5.98it/s, loss=0.254, v_num=1]\u001b[A\n",
      "Epoch 6:  95%|████████████████████████████████████████████████▏  | 121/128 [00:20<00:01,  6.02it/s, loss=0.254, v_num=1]\u001b[A\n",
      "Epoch 6:  95%|████████████████████████████████████████████████▌  | 122/128 [00:20<00:00,  6.07it/s, loss=0.254, v_num=1]\u001b[A\n",
      "Epoch 6:  96%|█████████████████████████████████████████████████  | 123/128 [00:20<00:00,  6.12it/s, loss=0.254, v_num=1]\u001b[A\n",
      "Epoch 6:  97%|█████████████████████████████████████████████████▍ | 124/128 [00:20<00:00,  6.16it/s, loss=0.254, v_num=1]\u001b[A\n",
      "Epoch 6:  98%|█████████████████████████████████████████████████▊ | 125/128 [00:20<00:00,  6.21it/s, loss=0.254, v_num=1]\u001b[A\n",
      "Epoch 6:  98%|██████████████████████████████████████████████████▏| 126/128 [00:20<00:00,  6.26it/s, loss=0.254, v_num=1]\u001b[A\n",
      "Epoch 6:  99%|██████████████████████████████████████████████████▌| 127/128 [00:20<00:00,  6.30it/s, loss=0.254, v_num=1]\u001b[A\n",
      "Epoch 6: 100%|███████████████████████████████████████████████████| 128/128 [00:20<00:00,  6.35it/s, loss=0.254, v_num=1]\u001b[A\n",
      "Epoch 6: 100%|███████████████████████████████████████████████████| 128/128 [00:20<00:00,  6.35it/s, loss=0.254, v_num=1]\u001b[A\n"
     ]
    }
   ],
   "source": [
    "trainer.fit(model=lit_s4, datamodule=dm)"
   ]
  },
  {
   "cell_type": "code",
   "execution_count": 81,
   "metadata": {},
   "outputs": [],
   "source": [
    "lit_s4 = lit_s4.load_from_checkpoint(\"outputs/mrpc/checkpoint_epoch=03-val_loss=001.ckpt\")"
   ]
  },
  {
   "cell_type": "code",
   "execution_count": 82,
   "metadata": {},
   "outputs": [],
   "source": [
    "from happy_s4.data.data import WordTokenizer, shape_dataset\n",
    "from happy_s4.data.collators import BatchCollators"
   ]
  },
  {
   "cell_type": "code",
   "execution_count": 83,
   "metadata": {},
   "outputs": [],
   "source": [
    "import datasets\n",
    "from functools import partial"
   ]
  },
  {
   "cell_type": "code",
   "execution_count": 84,
   "metadata": {},
   "outputs": [],
   "source": [
    "from torch.utils.data import DataLoader"
   ]
  },
  {
   "cell_type": "code",
   "execution_count": 85,
   "metadata": {},
   "outputs": [
    {
     "name": "stderr",
     "output_type": "stream",
     "text": [
      "Reusing dataset glue (/mnt/data1/hf_dataset_cache/glue/mrpc/1.0.0/dacbe3125aa31d7f70367a07a8a9e72a5a0bfeb5fc42e75c9db75b96da6053ad)\n",
      "Loading cached processed dataset at /mnt/data1/hf_dataset_cache/glue/mrpc/1.0.0/dacbe3125aa31d7f70367a07a8a9e72a5a0bfeb5fc42e75c9db75b96da6053ad/cache-881645435afb9899.arrow\n"
     ]
    }
   ],
   "source": [
    "data_test = datasets.load_dataset(\n",
    "    \"glue\",\n",
    "    \"mrpc\",\n",
    "    split=\"test\",\n",
    ")\n",
    "data_test = data_test.map(\n",
    "    partial(shape_dataset, word_tokenizer=dm.tokenizer)\n",
    ")\n"
   ]
  },
  {
   "cell_type": "code",
   "execution_count": 86,
   "metadata": {},
   "outputs": [],
   "source": [
    "data_test = data_test.remove_columns(['sentence1', 'sentence2', 'idx'])"
   ]
  },
  {
   "cell_type": "code",
   "execution_count": 87,
   "metadata": {},
   "outputs": [],
   "source": [
    "dl = DataLoader(\n",
    "    dataset=data_test,\n",
    "    collate_fn=BatchCollators(dm.tokenizer.pad_token_id),\n",
    "    batch_size=dm.args.batch_size,\n",
    "    shuffle=False\n",
    ")"
   ]
  },
  {
   "cell_type": "code",
   "execution_count": 88,
   "metadata": {},
   "outputs": [],
   "source": [
    "import torch"
   ]
  },
  {
   "cell_type": "code",
   "execution_count": 89,
   "metadata": {},
   "outputs": [],
   "source": [
    "preds = []\n",
    "gt = []"
   ]
  },
  {
   "cell_type": "code",
   "execution_count": 90,
   "metadata": {},
   "outputs": [],
   "source": [
    "from tqdm import tqdm"
   ]
  },
  {
   "cell_type": "code",
   "execution_count": 91,
   "metadata": {},
   "outputs": [
    {
     "name": "stderr",
     "output_type": "stream",
     "text": [
      "\n",
      "  0%|                                                                                            | 0/54 [00:00<?, ?it/s]\u001b[A\n",
      " 11%|█████████▎                                                                          | 6/54 [00:00<00:00, 54.65it/s]\u001b[A\n",
      " 24%|███████████████████▉                                                               | 13/54 [00:00<00:00, 60.82it/s]\u001b[A\n",
      " 39%|████████████████████████████████▎                                                  | 21/54 [00:00<00:00, 66.94it/s]\u001b[A\n",
      " 54%|████████████████████████████████████████████▌                                      | 29/54 [00:00<00:00, 70.35it/s]\u001b[A\n",
      " 69%|████████████████████████████████████████████████████████▊                          | 37/54 [00:00<00:00, 73.10it/s]\u001b[A\n",
      " 83%|█████████████████████████████████████████████████████████████████████▏             | 45/54 [00:00<00:00, 75.19it/s]\u001b[A\n",
      "100%|███████████████████████████████████████████████████████████████████████████████████| 54/54 [00:00<00:00, 71.97it/s]\u001b[A\n"
     ]
    }
   ],
   "source": [
    "for batch in tqdm(dl):\n",
    "    with torch.no_grad(): \n",
    "        _, logits = lit_s4(input_ids=batch['input_ids'], labels=batch['label'])\n",
    "        label = logits.argmax(dim=1).numpy().tolist()\n",
    "        gt.extend(batch['label'].numpy().tolist())\n",
    "        preds.extend(label)"
   ]
  },
  {
   "cell_type": "code",
   "execution_count": 92,
   "metadata": {},
   "outputs": [],
   "source": [
    "from sklearn.metrics import accuracy_score"
   ]
  },
  {
   "cell_type": "code",
   "execution_count": 93,
   "metadata": {},
   "outputs": [
    {
     "data": {
      "text/plain": [
       "0.6608695652173913"
      ]
     },
     "execution_count": 93,
     "metadata": {},
     "output_type": "execute_result"
    }
   ],
   "source": [
    "accuracy_score(gt, preds)"
   ]
  },
  {
   "cell_type": "code",
   "execution_count": null,
   "metadata": {},
   "outputs": [],
   "source": []
  }
 ],
 "metadata": {
  "kernelspec": {
   "display_name": "s4",
   "language": "python",
   "name": "s4"
  },
  "language_info": {
   "codemirror_mode": {
    "name": "ipython",
    "version": 3
   },
   "file_extension": ".py",
   "mimetype": "text/x-python",
   "name": "python",
   "nbconvert_exporter": "python",
   "pygments_lexer": "ipython3",
   "version": "3.8.13"
  }
 },
 "nbformat": 4,
 "nbformat_minor": 4
}
